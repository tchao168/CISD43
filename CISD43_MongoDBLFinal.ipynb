{
 "cells": [
  {
   "cell_type": "markdown",
   "id": "f4484783-855a-47d0-86a8-b0c54c20432b",
   "metadata": {},
   "source": [
    "#### CISD43_MongoDB Final\n",
    "-- Using USA_Housing.csv within MongoDB\n",
    "when reentering MongoDB Compass, find the \"housing_sales\", click the three dots, select [Open in new tab] th data will open\n",
    "\n",
    "- By Taichun Chao\n"
   ]
  },
  {
   "cell_type": "markdown",
   "id": "4d5c3acf-ee09-46fc-9283-f425f0565446",
   "metadata": {},
   "source": [
    "### Open MongoDB Compass and:\r",
    "* \n",
    "create a new database called \"housing_db\"\n",
    "* \r\n",
    "Create a collection named housing_saless\"."
   ]
  },
  {
   "cell_type": "markdown",
   "id": "9ccd82ea-950a-4ae4-8b07-8bbef8f7d64e",
   "metadata": {},
   "source": [
    "### Import Data:¶\r\n",
    "Press \"Import Data\" and select the fileUSA_Housingl.csv. The file contains columns:  Ave. Area House Ageo,Ave. Area Number of Roomse, Ave. Area Number of Bedroomsn,Area Populationy,Pricee,aandAddressy\"."
   ]
  },
  {
   "cell_type": "code",
   "execution_count": 4,
   "id": "17bb6ecb-5df9-4809-8e17-dd843ee1f744",
   "metadata": {},
   "outputs": [],
   "source": [
    "#!pip install pymongo"
   ]
  },
  {
   "cell_type": "markdown",
   "id": "cfdab0b0-4775-4a5f-918f-a6ff257c0894",
   "metadata": {},
   "source": [
    "#### Import MongoClient and Pandas"
   ]
  },
  {
   "cell_type": "code",
   "execution_count": 7,
   "id": "7e108c89-5d75-4b66-aceb-88c27462d5ef",
   "metadata": {},
   "outputs": [],
   "source": [
    "#import liibrary\n",
    "from pymongo import MongoClient\n",
    "import pandas as pd\n"
   ]
  },
  {
   "cell_type": "markdown",
   "id": "fb7e8ac9-5aa1-4583-bef1-abe612b2903c",
   "metadata": {},
   "source": [
    "### Connect to MongoDB"
   ]
  },
  {
   "cell_type": "code",
   "execution_count": 10,
   "id": "309fda36-1d99-41ce-8b32-8fb379ab9ccd",
   "metadata": {},
   "outputs": [],
   "source": [
    "#Connect to MonagoDB\n",
    "client = MongoClient('mongodb://localhost:27017/')\n",
    "#Select the database\n",
    "db = client[\"housing_db\"]\n",
    "#Select the collection\n",
    "collection = db[\"housing_sales\"]"
   ]
  },
  {
   "cell_type": "markdown",
   "id": "3048d3be-d551-4f9d-90bb-c5b9ba6d0c9e",
   "metadata": {},
   "source": [
    "### Count the total number of record"
   ]
  },
  {
   "cell_type": "code",
   "execution_count": 13,
   "id": "bfd933f0-8462-4ab5-a52a-980e82291988",
   "metadata": {},
   "outputs": [
    {
     "name": "stdout",
     "output_type": "stream",
     "text": [
      "Total number of records:  5000\n"
     ]
    }
   ],
   "source": [
    "total_records = collection.count_documents({})\n",
    "print(\"Total number of records: \", total_records)"
   ]
  },
  {
   "cell_type": "markdown",
   "id": "25431592-198e-4f32-8701-3097d85d0a8e",
   "metadata": {},
   "source": [
    "### Retrieve the first three records"
   ]
  },
  {
   "cell_type": "code",
   "execution_count": 16,
   "id": "e64e9831-60c0-4443-9b47-66388a96e762",
   "metadata": {},
   "outputs": [
    {
     "name": "stdout",
     "output_type": "stream",
     "text": [
      "{'_id': ObjectId('6657e896a2bc56798b9339d6'), 'Avg': {' Area Income': 79545.45857431678, ' Area House Age': 5.682861321615587, ' Area Number of Rooms': 7.009188142792237, ' Area Number of Bedrooms': 4.09}, 'Area Population': 23086.800502686456, 'Price': 1059033.5578701235, 'Address': '208 Michael Ferry Apt. 674\\nLaurabury, NE 37010-5101'}\n",
      "{'_id': ObjectId('6657e896a2bc56798b9339d7'), 'Avg': {' Area Income': 79248.64245482568, ' Area House Age': 6.0028998082752425, ' Area Number of Rooms': 6.730821019094919, ' Area Number of Bedrooms': 3.09}, 'Area Population': 40173.07217364482, 'Price': 1505890.91484695, 'Address': '188 Johnson Views Suite 079\\nLake Kathleen, CA 48958'}\n",
      "{'_id': ObjectId('6657e896a2bc56798b9339d8'), 'Avg': {' Area Income': 61287.067178656784, ' Area House Age': 5.865889840310001, ' Area Number of Rooms': 8.512727430375099, ' Area Number of Bedrooms': 5.13}, 'Area Population': 36882.15939970458, 'Price': 1058987.9878760849, 'Address': '9127 Elizabeth Stravenue\\nDanieltown, WI 06482-3489'}\n"
     ]
    }
   ],
   "source": [
    "# Retrieve the first three records\n",
    "results = collection.find().limit(3)\n",
    "\n",
    "# Print the records\n",
    "for result in results:    \n",
    "    print(result)\n",
    "    "
   ]
  },
  {
   "cell_type": "markdown",
   "id": "bb9a559b-e31a-4e8f-b113-49a2c3dbd5f3",
   "metadata": {},
   "source": [
    "#### Use query to find the condition, only print out \"price\" not whole row"
   ]
  },
  {
   "cell_type": "code",
   "execution_count": 19,
   "id": "4a9cc6ec-9d71-4b54-9668-34580cb9e7e5",
   "metadata": {},
   "outputs": [
    {
     "name": "stdout",
     "output_type": "stream",
     "text": [
      "Price: 1520234.2293774572, Address: 905 Lane Pines Suite 348\n",
      "Brownborough, DE 57196-3319\n",
      "Price: 1262017.792059947, Address: 089 Wilson Forks Suite 185\n",
      "East Gina, PA 98785-6132\n",
      "Price: 1852375.50677484, Address: 22801 Skinner Isle\n",
      "Mooretown, TN 01957\n",
      "Price: 1610006.604587974, Address: 338 Karen Prairie Apt. 341\n",
      "Murphymouth, MI 56611\n",
      "Price: 1550359.5484654682, Address: 31018 Park Square Suite 876\n",
      "Normanside, MA 65696-1725\n",
      "total item: 20\n"
     ]
    }
   ],
   "source": [
    "# Query to find houses with 4 bedrooms and house age >= 6, then count the total amount\n",
    "query = {\n",
    "    'Avg. Area Number of Bedrooms': 4,\n",
    "    'Avg. Area House Age': {'$gte': 6}\n",
    "}\n",
    "\n",
    "# Execute the query and project the price field\n",
    "#results = collection.find(query, {'Price': 1, '_id': 1}) # 0 means not include\n",
    "results =collection.find(query,{'Price':1, 'Address':1}).limit(5)\n",
    "count = collection.count_documents(query)\n",
    "# Print the prices\n",
    "for house in results:\n",
    "   print(f\"Price: {house['Price']}, Address: {house['Address']}\")\n",
    "   # print(house['Price'], \"_id\":0)\n",
    "print('total item:', count)\n"
   ]
  },
  {
   "cell_type": "markdown",
   "id": "d976cf26-368e-4f67-b849-9eb548678e28",
   "metadata": {},
   "source": [
    "### Find hourse price less $200000 and only print out 2 on list"
   ]
  },
  {
   "cell_type": "code",
   "execution_count": 22,
   "id": "782124d6-551a-4b65-a963-069a12c70b87",
   "metadata": {},
   "outputs": [
    {
     "name": "stdout",
     "output_type": "stream",
     "text": [
      "Total house less than $200000: total num  6 \n",
      "\n",
      "{'_id': ObjectId('6657e896a2bc56798b933add'), 'Avg': {' Area Income': 40366.61629125728, ' Area House Age': 4.902939589246314, ' Area Number of Rooms': 7.617118099962791, ' Area Number of Bedrooms': 5.07}, 'Area Population': 16349.365394310094, 'Price': 152071.87474956046, 'Address': '503 Howard Pass Apt. 427\\nFernandezborough, GA 02514'}\n",
      "{'_id': ObjectId('6657e896a2bc56798b933ecd'), 'Avg': {' Area Income': 37971.20756623529, ' Area House Age': 4.291223903128535, ' Area Number of Rooms': 5.807509527238798, ' Area Number of Bedrooms': 3.24}, 'Area Population': 33267.767727560946, 'Price': 31140.517620186045, 'Address': '98398 Terrance Pines\\nSouth Joshua, MT 00544-8919'}\n"
     ]
    }
   ],
   "source": [
    "#find the house price is less $80000 and only print 2 on the list\n",
    "query = {'Price': {\"$lt\": 200000}}\n",
    "count = collection.count_documents(query)\n",
    "results = collection.find(query).limit(2)\n",
    "\n",
    "print(\"Total house less than $200000: total num \", count, '\\n')\n",
    "for result in results:    \n",
    "    print(result)\n"
   ]
  },
  {
   "cell_type": "markdown",
   "id": "feabd88c-23dd-456d-8525-2943f39cfed0",
   "metadata": {},
   "source": [
    "### Find the number of Avg. Area Number of Bedrooms >= 5. in all the document with using a query variable, a result variable, and a dataframe"
   ]
  },
  {
   "cell_type": "code",
   "execution_count": 25,
   "id": "c49f96c1-681f-419b-8676-d3a419c3bdaa",
   "metadata": {},
   "outputs": [
    {
     "name": "stdout",
     "output_type": "stream",
     "text": [
      "Number of houses with 5 or more bedrooms: 1214\n"
     ]
    }
   ],
   "source": [
    "# Query to count the number of houses with 5 or more bedrooms\n",
    "query = {'Avg. Area Number of Bedrooms': {'$gte': 5}}\n",
    "      \n",
    "# Execute the query and count the results\n",
    "count = collection.count_documents(query)\n",
    "\n",
    "# Print the count\n",
    "print(f'Number of houses with 5 or more bedrooms: {count}')\n"
   ]
  },
  {
   "cell_type": "markdown",
   "id": "07050b4d-4309-4652-8309-f38577effb13",
   "metadata": {},
   "source": [
    "### Find a house's bedroom more than 5 and the house age less than 3 years, the price can not over $500000\n",
    "- Convert the result to Pandas DataFrame"
   ]
  },
  {
   "cell_type": "code",
   "execution_count": 28,
   "id": "cb5740c0-b0fd-4307-a199-e7b9809560dc",
   "metadata": {},
   "outputs": [
    {
     "name": "stdout",
     "output_type": "stream",
     "text": [
      "[{'_id': ObjectId('6657e896a2bc56798b933e08'), 'Avg': {' Area Income': 65016.22381064409, ' Area House Age': 2.644304186036705, ' Area Number of Rooms': 8.306304081762676, ' Area Number of Bedrooms': 6.05}, 'Area Population': 15902.582017185101, 'Price': 414571.22293662146, 'Address': '584 Rick Cove\\nLeeberg, ND 15540-8557'}, {'_id': ObjectId('6657e896a2bc56798b934032'), 'Avg': {' Area Income': 71721.42137723006, ' Area House Age': 2.6830429033311556, ' Area Number of Rooms': 7.583527004255256, ' Area Number of Bedrooms': 6.26}, 'Area Population': 10704.821908621432, 'Price': 395440.2021544269, 'Address': '92426 Bennett Islands\\nClintonberg, PW 44484'}]\n",
      "total item: 2\n"
     ]
    }
   ],
   "source": [
    "query ={'Avg. Area Number of Bedrooms':{\"$gt\" : 5},\n",
    "     'Avg. Area House Age': {'$lt': 3},\n",
    "     \"Price\":{'$lt':500000}\n",
    "   }\n",
    "results = collection.find(query)\n",
    "count =collection.count_documents(query)\n",
    "\n",
    "#The following printout will continue\n",
    "print(list(results))\n",
    "print('total item:', count)\n"
   ]
  },
  {
   "cell_type": "code",
   "execution_count": null,
   "id": "02ff8ad2-9c7f-4a6b-b3a5-106efad4312a",
   "metadata": {},
   "outputs": [],
   "source": []
  },
  {
   "cell_type": "markdown",
   "id": "aebc5a23-b1b1-42be-b7e5-05ac0b077e9e",
   "metadata": {},
   "source": [
    "### To find Maximum and minimum number, setup pipeline \n",
    "The following structure is called pipeline\n",
    "* 1 every item put in \" \"\n",
    "* 2 use aggregate,\n",
    "* 3 result need to put in list ex. list(result)\n",
    "* 4. \"_id\": none, none can be \"\""
   ]
  },
  {
   "cell_type": "code",
   "execution_count": 32,
   "id": "6a819099-bd11-494b-ae91-e5c225e30851",
   "metadata": {},
   "outputs": [
    {
     "name": "stdout",
     "output_type": "stream",
     "text": [
      "Max price: 2469065.5941747027\n",
      "Min price: 15938.657923287848\n"
     ]
    }
   ],
   "source": [
    "# Define the aggregation pipeline to find max and min prices\n",
    "pipeline = [\n",
    "    {\n",
    "        \"$group\": {\n",
    "            \"_id\": \"\",\n",
    "            \"max_price\": {\"$max\": \"$Price\"},\n",
    "            \"min_price\": {\"$min\": \"$Price\"}\n",
    "        }\n",
    "    }\n",
    "]\n",
    "\n",
    "# Execute the aggregation\n",
    "result = list(collection.aggregate(pipeline))\n",
    "\n",
    "# Print the results\n",
    "if result:\n",
    "    print(\"Max price:\", result[0][\"max_price\"])\n",
    "    print(\"Min price:\", result[0][\"min_price\"])\n",
    "else:\n",
    "    print(\"No data found\")"
   ]
  },
  {
   "cell_type": "markdown",
   "id": "c7089ce6-5085-44a9-b61a-9e12f5ad0832",
   "metadata": {},
   "source": [
    "#### Put data in dataframe as in pandas"
   ]
  },
  {
   "cell_type": "code",
   "execution_count": 35,
   "id": "fb4785df-fef2-4cdc-ab0d-236f267c89fb",
   "metadata": {},
   "outputs": [
    {
     "data": {
      "text/html": [
       "<div>\n",
       "<style scoped>\n",
       "    .dataframe tbody tr th:only-of-type {\n",
       "        vertical-align: middle;\n",
       "    }\n",
       "\n",
       "    .dataframe tbody tr th {\n",
       "        vertical-align: top;\n",
       "    }\n",
       "\n",
       "    .dataframe thead th {\n",
       "        text-align: right;\n",
       "    }\n",
       "</style>\n",
       "<table border=\"1\" class=\"dataframe\">\n",
       "  <thead>\n",
       "    <tr style=\"text-align: right;\">\n",
       "      <th></th>\n",
       "      <th>_id</th>\n",
       "      <th>Avg</th>\n",
       "      <th>Area Population</th>\n",
       "      <th>Price</th>\n",
       "      <th>Address</th>\n",
       "    </tr>\n",
       "  </thead>\n",
       "  <tbody>\n",
       "    <tr>\n",
       "      <th>0</th>\n",
       "      <td>6657e896a2bc56798b9339d6</td>\n",
       "      <td>{' Area Income': 79545.45857431678, ' Area Hou...</td>\n",
       "      <td>23086.800503</td>\n",
       "      <td>1.059034e+06</td>\n",
       "      <td>208 Michael Ferry Apt. 674\\nLaurabury, NE 3701...</td>\n",
       "    </tr>\n",
       "    <tr>\n",
       "      <th>1</th>\n",
       "      <td>6657e896a2bc56798b9339d7</td>\n",
       "      <td>{' Area Income': 79248.64245482568, ' Area Hou...</td>\n",
       "      <td>40173.072174</td>\n",
       "      <td>1.505891e+06</td>\n",
       "      <td>188 Johnson Views Suite 079\\nLake Kathleen, CA...</td>\n",
       "    </tr>\n",
       "    <tr>\n",
       "      <th>2</th>\n",
       "      <td>6657e896a2bc56798b9339d8</td>\n",
       "      <td>{' Area Income': 61287.067178656784, ' Area Ho...</td>\n",
       "      <td>36882.159400</td>\n",
       "      <td>1.058988e+06</td>\n",
       "      <td>9127 Elizabeth Stravenue\\nDanieltown, WI 06482...</td>\n",
       "    </tr>\n",
       "    <tr>\n",
       "      <th>3</th>\n",
       "      <td>6657e896a2bc56798b9339d9</td>\n",
       "      <td>{' Area Income': 63345.24004622798, ' Area Hou...</td>\n",
       "      <td>34310.242831</td>\n",
       "      <td>1.260617e+06</td>\n",
       "      <td>USS Barnett\\nFPO AP 44820</td>\n",
       "    </tr>\n",
       "    <tr>\n",
       "      <th>4</th>\n",
       "      <td>6657e896a2bc56798b9339da</td>\n",
       "      <td>{' Area Income': 59982.197225708034, ' Area Ho...</td>\n",
       "      <td>26354.109472</td>\n",
       "      <td>6.309435e+05</td>\n",
       "      <td>USNS Raymond\\nFPO AE 09386</td>\n",
       "    </tr>\n",
       "  </tbody>\n",
       "</table>\n",
       "</div>"
      ],
      "text/plain": [
       "                        _id  \\\n",
       "0  6657e896a2bc56798b9339d6   \n",
       "1  6657e896a2bc56798b9339d7   \n",
       "2  6657e896a2bc56798b9339d8   \n",
       "3  6657e896a2bc56798b9339d9   \n",
       "4  6657e896a2bc56798b9339da   \n",
       "\n",
       "                                                 Avg  Area Population  \\\n",
       "0  {' Area Income': 79545.45857431678, ' Area Hou...     23086.800503   \n",
       "1  {' Area Income': 79248.64245482568, ' Area Hou...     40173.072174   \n",
       "2  {' Area Income': 61287.067178656784, ' Area Ho...     36882.159400   \n",
       "3  {' Area Income': 63345.24004622798, ' Area Hou...     34310.242831   \n",
       "4  {' Area Income': 59982.197225708034, ' Area Ho...     26354.109472   \n",
       "\n",
       "          Price                                            Address  \n",
       "0  1.059034e+06  208 Michael Ferry Apt. 674\\nLaurabury, NE 3701...  \n",
       "1  1.505891e+06  188 Johnson Views Suite 079\\nLake Kathleen, CA...  \n",
       "2  1.058988e+06  9127 Elizabeth Stravenue\\nDanieltown, WI 06482...  \n",
       "3  1.260617e+06                          USS Barnett\\nFPO AP 44820  \n",
       "4  6.309435e+05                         USNS Raymond\\nFPO AE 09386  "
      ]
     },
     "execution_count": 35,
     "metadata": {},
     "output_type": "execute_result"
    }
   ],
   "source": [
    "data = collection.find({})\n",
    "# Convert the result to a pandas DataFrame\n",
    "df = pd.DataFrame(list(data))\n",
    "\n",
    "# Display the DataFrame\n",
    "df.head()"
   ]
  },
  {
   "cell_type": "code",
   "execution_count": 37,
   "id": "baedd7e0-66c4-4f00-8f27-b704b547c553",
   "metadata": {},
   "outputs": [
    {
     "name": "stdout",
     "output_type": "stream",
     "text": [
      "<class 'pandas.core.frame.DataFrame'>\n",
      "RangeIndex: 5000 entries, 0 to 4999\n",
      "Data columns (total 5 columns):\n",
      " #   Column           Non-Null Count  Dtype  \n",
      "---  ------           --------------  -----  \n",
      " 0   _id              5000 non-null   object \n",
      " 1   Avg              5000 non-null   object \n",
      " 2   Area Population  5000 non-null   float64\n",
      " 3   Price            5000 non-null   float64\n",
      " 4   Address          5000 non-null   object \n",
      "dtypes: float64(2), object(3)\n",
      "memory usage: 195.4+ KB\n"
     ]
    }
   ],
   "source": [
    "df.info()"
   ]
  },
  {
   "cell_type": "markdown",
   "id": "275e7557-fcc5-49ca-a3e9-65a6d0e22399",
   "metadata": {},
   "source": [
    "<b>Tasks:</b>\n",
    "<b>Retrieve Data:</b> \n",
    "<p>Write queries to retrieve the following information:</p>\n",
    "\n",
    "* Total number of records in the collection.\n",
    "* total_records = collection.count_documents({})\n",
    "* print(\"Total number of records:\", total_records)\n",
    "* Find the maximum and minimum values by using the pipeline\n",
    "* combine two conditions in the same queries\n",
    "* use \"$gt\",\"lte\" in query"
   ]
  },
  {
   "cell_type": "markdown",
   "id": "5569feb1-8b73-446c-983e-538232d2329e",
   "metadata": {},
   "source": [
    "db.collection.countDocuments(query, options) </br>\n",
    "Example:\n",
    "- db. collection.countDocument({}) : To count the number of all documents in the collection.\n",
    "\n",
    "- count the InvoiceDate great than the date '01/01/2024', limit 100 times\n",
    " -- collection.countDocuments({\"InvoiceDate\":{$gt: new Date('01/01/2024')}}, {limit: 100})\n"
   ]
  },
  {
   "cell_type": "markdown",
   "id": "71f0ea17-eeb9-4152-a4eb-631ef3424d5c",
   "metadata": {},
   "source": [
    "#### Find the most popular product"
   ]
  },
  {
   "cell_type": "code",
   "execution_count": 42,
   "id": "95d62f7f-b989-4f52-a4ef-7821f27cdf68",
   "metadata": {},
   "outputs": [],
   "source": [
    "#Conclusion:  USA-housing most of the items numerical, not so many thing to play around."
   ]
  },
  {
   "cell_type": "code",
   "execution_count": null,
   "id": "c868c7ce-6c20-4194-9d83-a04912e82b99",
   "metadata": {},
   "outputs": [],
   "source": []
  }
 ],
 "metadata": {
  "kernelspec": {
   "display_name": "Python 3 (ipykernel)",
   "language": "python",
   "name": "python3"
  },
  "language_info": {
   "codemirror_mode": {
    "name": "ipython",
    "version": 3
   },
   "file_extension": ".py",
   "mimetype": "text/x-python",
   "name": "python",
   "nbconvert_exporter": "python",
   "pygments_lexer": "ipython3",
   "version": "3.11.5"
  }
 },
 "nbformat": 4,
 "nbformat_minor": 5
}
